{
  "nbformat": 4,
  "nbformat_minor": 0,
  "metadata": {
    "colab": {
      "provenance": []
    },
    "kernelspec": {
      "name": "python3",
      "display_name": "Python 3"
    }
  },
  "cells": [
    {
      "cell_type": "markdown",
      "metadata": {
        "id": "37puETfgRzzg"
      },
      "source": [
        "# Data Preprocessing Tools"
      ]
    },
    {
      "cell_type": "markdown",
      "metadata": {
        "id": "EoRP98MpR-qj"
      },
      "source": [
        "## Importing the libraries"
      ]
    },
    {
      "cell_type": "code",
      "metadata": {
        "id": "N-qiINBQSK2g"
      },
      "source": [
        "import numpy as np\n",
        "import matplotlib.pyplot as plt\n",
        "import pandas as pd"
      ],
      "execution_count": 15,
      "outputs": []
    },
    {
      "cell_type": "markdown",
      "metadata": {
        "id": "RopL7tUZSQkT"
      },
      "source": [
        "## Importing the dataset"
      ]
    },
    {
      "cell_type": "code",
      "source": [
        "dataset = pd.read_csv('Data.csv')\n",
        "X = dataset.iloc[:, :-1]\n",
        "y = dataset.iloc[:, -1]"
      ],
      "metadata": {
        "id": "1rWU7_i3Or7x"
      },
      "execution_count": 16,
      "outputs": []
    },
    {
      "cell_type": "code",
      "metadata": {
        "id": "hCsz2yCebe1R",
        "outputId": "445db4a4-e683-4cfc-e1f4-71f17edf985b",
        "colab": {
          "base_uri": "https://localhost:8080/"
        }
      },
      "source": [
        "print(X)"
      ],
      "execution_count": 17,
      "outputs": [
        {
          "output_type": "stream",
          "name": "stdout",
          "text": [
            "   Country   Age   Salary\n",
            "0   France  44.0  72000.0\n",
            "1    Spain  27.0  48000.0\n",
            "2  Germany  30.0  54000.0\n",
            "3    Spain  38.0  61000.0\n",
            "4  Germany  40.0      NaN\n",
            "5   France  35.0  58000.0\n",
            "6    Spain   NaN  52000.0\n",
            "7   France  48.0  79000.0\n",
            "8  Germany  50.0  83000.0\n",
            "9   France  37.0  67000.0\n"
          ]
        }
      ]
    },
    {
      "cell_type": "code",
      "metadata": {
        "id": "eYrOQ43XcJR3",
        "outputId": "36b04f20-63fa-470d-c41b-b21439ee427d",
        "colab": {
          "base_uri": "https://localhost:8080/"
        }
      },
      "source": [
        "print(y)"
      ],
      "execution_count": 18,
      "outputs": [
        {
          "output_type": "stream",
          "name": "stdout",
          "text": [
            "0     No\n",
            "1    Yes\n",
            "2     No\n",
            "3     No\n",
            "4    Yes\n",
            "5    Yes\n",
            "6     No\n",
            "7    Yes\n",
            "8     No\n",
            "9    Yes\n",
            "Name: Purchased, dtype: object\n"
          ]
        }
      ]
    },
    {
      "cell_type": "markdown",
      "metadata": {
        "id": "nhfKXNxlSabC"
      },
      "source": [
        "## Taking care of missing data"
      ]
    },
    {
      "cell_type": "code",
      "metadata": {
        "id": "c93k7ipkSexq"
      },
      "source": [
        "from sklearn.impute import SimpleImputer\n",
        "imputer = SimpleImputer(missing_values=np.nan , strategy= 'mean')\n",
        "imputer.fit(X.iloc[:, 1:3])\n",
        "X.iloc[:,1:3] = imputer.transform(X.iloc[:,1:3])"
      ],
      "execution_count": 19,
      "outputs": []
    },
    {
      "cell_type": "code",
      "metadata": {
        "id": "3UgLdMS_bjq_",
        "outputId": "4cf31ce6-554e-4037-c2d4-dc7d206ba12d",
        "colab": {
          "base_uri": "https://localhost:8080/"
        }
      },
      "source": [
        "print(X)"
      ],
      "execution_count": 20,
      "outputs": [
        {
          "output_type": "stream",
          "name": "stdout",
          "text": [
            "   Country        Age        Salary\n",
            "0   France  44.000000  72000.000000\n",
            "1    Spain  27.000000  48000.000000\n",
            "2  Germany  30.000000  54000.000000\n",
            "3    Spain  38.000000  61000.000000\n",
            "4  Germany  40.000000  63777.777778\n",
            "5   France  35.000000  58000.000000\n",
            "6    Spain  38.777778  52000.000000\n",
            "7   France  48.000000  79000.000000\n",
            "8  Germany  50.000000  83000.000000\n",
            "9   France  37.000000  67000.000000\n"
          ]
        }
      ]
    },
    {
      "cell_type": "code",
      "source": [
        "## ENCODING"
      ],
      "metadata": {
        "id": "BVCb7zgyUzd9"
      },
      "execution_count": 21,
      "outputs": []
    },
    {
      "cell_type": "markdown",
      "metadata": {
        "id": "AhSpdQWeSsFh"
      },
      "source": [
        "### Encoding the Independent Variable"
      ]
    },
    {
      "cell_type": "code",
      "metadata": {
        "id": "5hwuVddlSwVi"
      },
      "source": [
        "from sklearn.preprocessing import OneHotEncoder\n",
        "from sklearn.compose import ColumnTransformer\n",
        "ct = ColumnTransformer(transformers=[('encoder',OneHotEncoder(),[0])], remainder='passthrough')\n",
        "X = np.array(ct.fit_transform(x))"
      ],
      "execution_count": 22,
      "outputs": []
    },
    {
      "cell_type": "code",
      "metadata": {
        "id": "f7QspewyeBfx",
        "outputId": "44b8fcbc-581b-4ac5-984f-8438455a3ed5",
        "colab": {
          "base_uri": "https://localhost:8080/"
        }
      },
      "source": [
        "print(X)"
      ],
      "execution_count": 23,
      "outputs": [
        {
          "output_type": "stream",
          "name": "stdout",
          "text": [
            "[[0.00000000e+00 1.00000000e+00 0.00000000e+00 0.00000000e+00\n",
            "  4.40000000e+01 7.20000000e+04]\n",
            " [1.00000000e+00 0.00000000e+00 0.00000000e+00 1.00000000e+00\n",
            "  2.70000000e+01 4.80000000e+04]\n",
            " [1.00000000e+00 0.00000000e+00 1.00000000e+00 0.00000000e+00\n",
            "  3.00000000e+01 5.40000000e+04]\n",
            " [1.00000000e+00 0.00000000e+00 0.00000000e+00 1.00000000e+00\n",
            "  3.80000000e+01 6.10000000e+04]\n",
            " [1.00000000e+00 0.00000000e+00 1.00000000e+00 0.00000000e+00\n",
            "  4.00000000e+01 6.37777778e+04]\n",
            " [0.00000000e+00 1.00000000e+00 0.00000000e+00 0.00000000e+00\n",
            "  3.50000000e+01 5.80000000e+04]\n",
            " [1.00000000e+00 0.00000000e+00 0.00000000e+00 1.00000000e+00\n",
            "  3.87777778e+01 5.20000000e+04]\n",
            " [0.00000000e+00 1.00000000e+00 0.00000000e+00 0.00000000e+00\n",
            "  4.80000000e+01 7.90000000e+04]\n",
            " [1.00000000e+00 0.00000000e+00 1.00000000e+00 0.00000000e+00\n",
            "  5.00000000e+01 8.30000000e+04]\n",
            " [0.00000000e+00 1.00000000e+00 0.00000000e+00 0.00000000e+00\n",
            "  3.70000000e+01 6.70000000e+04]]\n"
          ]
        }
      ]
    },
    {
      "cell_type": "markdown",
      "metadata": {
        "id": "DXh8oVSITIc6"
      },
      "source": [
        "### Encoding the Dependent Variable"
      ]
    },
    {
      "cell_type": "code",
      "metadata": {
        "id": "XgHCShVyTOYY"
      },
      "source": [
        "from sklearn.preprocessing import LabelEncoder\n",
        "le = LabelEncoder()\n",
        "y = le.fit_transform(y)"
      ],
      "execution_count": 24,
      "outputs": []
    },
    {
      "cell_type": "code",
      "metadata": {
        "id": "FyhY8-gPpFCa",
        "outputId": "73e5c723-6b35-4bd2-b3db-74b43ab31030",
        "colab": {
          "base_uri": "https://localhost:8080/"
        }
      },
      "source": [
        "print(y)"
      ],
      "execution_count": 25,
      "outputs": [
        {
          "output_type": "stream",
          "name": "stdout",
          "text": [
            "[0 1 0 0 1 1 0 1 0 1]\n"
          ]
        }
      ]
    },
    {
      "cell_type": "markdown",
      "metadata": {
        "id": "qb_vcgm3qZKW"
      },
      "source": [
        "## Splitting the dataset into the Training set and Test set"
      ]
    },
    {
      "cell_type": "code",
      "metadata": {
        "id": "pXgA6CzlqbCl"
      },
      "source": [
        "from sklearn.model_selection import train_test_split\n",
        "X_train, X_test, y_train, y_test = train_test_split(X, y, test_size = 0.2, random_state = 1)"
      ],
      "execution_count": 26,
      "outputs": []
    },
    {
      "cell_type": "code",
      "metadata": {
        "id": "GuwQhFdKrYTM",
        "outputId": "a2b88e24-92dd-44f3-93d5-146b4573225f",
        "colab": {
          "base_uri": "https://localhost:8080/"
        }
      },
      "source": [
        "print(X_train)"
      ],
      "execution_count": 27,
      "outputs": [
        {
          "output_type": "stream",
          "name": "stdout",
          "text": [
            "[[1.00000000e+00 0.00000000e+00 0.00000000e+00 1.00000000e+00\n",
            "  3.87777778e+01 5.20000000e+04]\n",
            " [1.00000000e+00 0.00000000e+00 1.00000000e+00 0.00000000e+00\n",
            "  4.00000000e+01 6.37777778e+04]\n",
            " [0.00000000e+00 1.00000000e+00 0.00000000e+00 0.00000000e+00\n",
            "  4.40000000e+01 7.20000000e+04]\n",
            " [1.00000000e+00 0.00000000e+00 0.00000000e+00 1.00000000e+00\n",
            "  3.80000000e+01 6.10000000e+04]\n",
            " [1.00000000e+00 0.00000000e+00 0.00000000e+00 1.00000000e+00\n",
            "  2.70000000e+01 4.80000000e+04]\n",
            " [0.00000000e+00 1.00000000e+00 0.00000000e+00 0.00000000e+00\n",
            "  4.80000000e+01 7.90000000e+04]\n",
            " [1.00000000e+00 0.00000000e+00 1.00000000e+00 0.00000000e+00\n",
            "  5.00000000e+01 8.30000000e+04]\n",
            " [0.00000000e+00 1.00000000e+00 0.00000000e+00 0.00000000e+00\n",
            "  3.50000000e+01 5.80000000e+04]]\n"
          ]
        }
      ]
    },
    {
      "cell_type": "code",
      "metadata": {
        "id": "TUrX_Tvcrbi4",
        "outputId": "f83df220-e0a9-4fbf-cb88-a9ba857c5077",
        "colab": {
          "base_uri": "https://localhost:8080/"
        }
      },
      "source": [
        "print(X_test)"
      ],
      "execution_count": 28,
      "outputs": [
        {
          "output_type": "stream",
          "name": "stdout",
          "text": [
            "[[1.0e+00 0.0e+00 1.0e+00 0.0e+00 3.0e+01 5.4e+04]\n",
            " [0.0e+00 1.0e+00 0.0e+00 0.0e+00 3.7e+01 6.7e+04]]\n"
          ]
        }
      ]
    },
    {
      "cell_type": "code",
      "metadata": {
        "id": "pSMHiIsWreQY",
        "outputId": "df38062c-3391-4666-95c1-1d0c802c6351",
        "colab": {
          "base_uri": "https://localhost:8080/"
        }
      },
      "source": [
        "print(y_train)"
      ],
      "execution_count": 29,
      "outputs": [
        {
          "output_type": "stream",
          "name": "stdout",
          "text": [
            "[0 1 0 0 1 1 0 1]\n"
          ]
        }
      ]
    },
    {
      "cell_type": "code",
      "metadata": {
        "id": "I_tW7H56rgtW",
        "outputId": "e598e231-9b50-4f16-f372-8bfaef9d1338",
        "colab": {
          "base_uri": "https://localhost:8080/"
        }
      },
      "source": [
        "print(y_test)"
      ],
      "execution_count": 30,
      "outputs": [
        {
          "output_type": "stream",
          "name": "stdout",
          "text": [
            "[0 1]\n"
          ]
        }
      ]
    },
    {
      "cell_type": "markdown",
      "metadata": {
        "id": "TpGqbS4TqkIR"
      },
      "source": [
        "## Feature Scaling"
      ]
    },
    {
      "cell_type": "code",
      "metadata": {
        "id": "AxjSUXFQqo-3"
      },
      "source": [
        "from sklearn.preprocessing import StandardScaler\n",
        "sc = StandardScaler()\n",
        "X_train[:, 3:] = sc.fit_transform(X_train[:, 3:])\n",
        "X_test[:, 3:] = sc.transform(X_test[:, 3:])"
      ],
      "execution_count": 31,
      "outputs": []
    },
    {
      "cell_type": "code",
      "metadata": {
        "id": "DWPET8ZdlMnu",
        "outputId": "aaebe445-7cfc-49b8-c12b-94ce0f1d68ad",
        "colab": {
          "base_uri": "https://localhost:8080/"
        }
      },
      "source": [
        "print(X_train)"
      ],
      "execution_count": 32,
      "outputs": [
        {
          "output_type": "stream",
          "name": "stdout",
          "text": [
            "[[ 1.          0.          0.          1.29099445 -0.19159184 -1.07812594]\n",
            " [ 1.          0.          1.         -0.77459667 -0.01411729 -0.07013168]\n",
            " [ 0.          1.          0.         -0.77459667  0.56670851  0.63356243]\n",
            " [ 1.          0.          0.          1.29099445 -0.30453019 -0.30786617]\n",
            " [ 1.          0.          0.          1.29099445 -1.90180114 -1.42046362]\n",
            " [ 0.          1.          0.         -0.77459667  1.14753431  1.23265336]\n",
            " [ 1.          0.          1.         -0.77459667  1.43794721  1.57499104]\n",
            " [ 0.          1.          0.         -0.77459667 -0.74014954 -0.56461943]]\n"
          ]
        }
      ]
    },
    {
      "cell_type": "code",
      "metadata": {
        "id": "sTXykB_QlRjE",
        "outputId": "79dc5df3-21b5-424c-a921-c64bf5c23b34",
        "colab": {
          "base_uri": "https://localhost:8080/"
        }
      },
      "source": [
        "print(X_test)"
      ],
      "execution_count": 33,
      "outputs": [
        {
          "output_type": "stream",
          "name": "stdout",
          "text": [
            "[[ 1.          0.          1.         -0.77459667 -1.46618179 -0.9069571 ]\n",
            " [ 0.          1.          0.         -0.77459667 -0.44973664  0.20564034]]\n"
          ]
        }
      ]
    }
  ]
}